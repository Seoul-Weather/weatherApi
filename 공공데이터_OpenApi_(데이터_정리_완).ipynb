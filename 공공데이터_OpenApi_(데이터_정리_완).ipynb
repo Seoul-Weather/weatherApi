{
  "cells": [
    {
      "cell_type": "code",
      "execution_count": null,
      "id": "73e84a82",
      "metadata": {
        "id": "73e84a82"
      },
      "outputs": [],
      "source": [
        "!pip install xmltodict\n",
        "import requests\n",
        "import json\n",
        "import xmltodict\n",
        "\n",
        "url = 'http://openapi.seoul.go.kr:8088/6351784378646a663631754e72636a/xml/citydata/1/5/동대문 관광특구'\n",
        "\n",
        "response = requests.get(url)\n",
        "jsonR = json.dumps(xmltodict.parse(response.text), indent = 4)\n",
        "print(jsonR)"
      ]
    },
    {
      "cell_type": "code",
      "execution_count": null,
      "id": "456da60a",
      "metadata": {
        "scrolled": false,
        "id": "456da60a"
      },
      "outputs": [],
      "source": [
        "data = json.loads(jsonR)\n",
        "data['SeoulRtd.citydata']['CITYDATA']"
      ]
    },
    {
      "cell_type": "code",
      "execution_count": 11,
      "id": "499d1139",
      "metadata": {
        "id": "499d1139"
      },
      "outputs": [],
      "source": [
        "gu = data['SeoulRtd.citydata']['CITYDATA']['COVID_19_STTS']['COVID_19_STTS'][\"GU_NM\"]\n",
        "temp = data['SeoulRtd.citydata']['CITYDATA']['WEATHER_STTS']['WEATHER_STTS']['TEMP']\n",
        "sensible_tmp = data['SeoulRtd.citydata']['CITYDATA']['WEATHER_STTS']['WEATHER_STTS']['SENSIBLE_TEMP']\n",
        "sky_stts = data['SeoulRtd.citydata']['CITYDATA']['WEATHER_STTS']['WEATHER_STTS']['FCST24HOURS']['FCST24HOURS'][0]['SKY_STTS']\n",
        "#최고/최저\n",
        "max_tmp = data['SeoulRtd.citydata']['CITYDATA']['WEATHER_STTS']['WEATHER_STTS']['MAX_TEMP']\n",
        "min_tmp = data['SeoulRtd.citydata']['CITYDATA']['WEATHER_STTS']['WEATHER_STTS']['MIN_TEMP']\n",
        "#강수량\n",
        "rain_pre = data['SeoulRtd.citydata']['CITYDATA']['WEATHER_STTS']['WEATHER_STTS']['PRECIPITATION']\n",
        "#미세먼지, 초미세먼지\n",
        "pm10 = data['SeoulRtd.citydata']['CITYDATA']['WEATHER_STTS']['WEATHER_STTS']['PM10']\n",
        "pm25 = data['SeoulRtd.citydata']['CITYDATA']['WEATHER_STTS']['WEATHER_STTS']['PM25']\n",
        "#풍속\n",
        "wind = data['SeoulRtd.citydata']['CITYDATA']['WEATHER_STTS']['WEATHER_STTS']['WIND_SPD']\n",
        "#일출, 일몰 \n",
        "sunset = data['SeoulRtd.citydata']['CITYDATA']['WEATHER_STTS']['WEATHER_STTS']['SUNSET']\n",
        "sunrise = data['SeoulRtd.citydata']['CITYDATA']['WEATHER_STTS']['WEATHER_STTS']['SUNRISE']\n",
        "#자외선\n",
        "uv = data['SeoulRtd.citydata']['CITYDATA']['WEATHER_STTS']['WEATHER_STTS']['UV_INDEX']\n",
        "humiditiy = data['SeoulRtd.citydata']['CITYDATA']['WEATHER_STTS']['WEATHER_STTS']['HUMIDITY']"
      ]
    },
    {
      "cell_type": "code",
      "execution_count": 12,
      "id": "4b6c8740",
      "metadata": {
        "colab": {
          "base_uri": "https://localhost:8080/"
        },
        "id": "4b6c8740",
        "outputId": "731fc28d-41ca-4dcb-ec88-94e7f8b7029b"
      },
      "outputs": [
        {
          "output_type": "stream",
          "name": "stdout",
          "text": [
            "{\n",
            "\t\"gu\": \"중구\",\n",
            "\t\"temp\": \"19.5\",\n",
            "\t\"sky_stts\": \"흐림\",\n",
            "\t\"max_tmp\": \"23\",\n",
            "\t\"min_tmp\": \"18\",\n",
            "\t\"rain_pre\": \"1.9mm\",\n",
            "\t\"pm10\": \"43\",\n",
            "\t\"pm25\": \"18\",\n",
            "\t\"wind\": \"2.3\",\n",
            "\t\"sunset\": \"19:44\",\n",
            "\t\"sunrise\": \"05:15\",\n",
            "\t\"uv\": \"낮음\",\n",
            "\t\"humiditiy\": \"96\"\n",
            "}\n"
          ]
        }
      ],
      "source": [
        "import json\n",
        "from collections import OrderedDict\n",
        "\n",
        "main_data = OrderedDict()\n",
        "main_data[\"gu\"] = gu\n",
        "main_data[\"temp\"] = temp\n",
        "main_data[\"sky_stts\"] = sky_stts\n",
        "main_data['max_tmp'] = max_tmp\n",
        "main_data['min_tmp'] = min_tmp\n",
        "main_data['rain_pre'] = rain_pre\n",
        "main_data['pm10'] = pm10\n",
        "main_data['pm25'] = pm25\n",
        "main_data['wind'] = wind\n",
        "main_data['sunset'] = sunset\n",
        "main_data['sunrise'] = sunrise\n",
        "main_data['uv'] = uv\n",
        "main_data['humiditiy'] = humiditiy \n",
        "print(json.dumps(main_data, ensure_ascii=False, indent=\"\\t\"))"
      ]
    },
    {
      "cell_type": "code",
      "execution_count": null,
      "id": "e40bbe30",
      "metadata": {
        "id": "e40bbe30"
      },
      "outputs": [],
      "source": [
        "!pip install flask"
      ]
    },
    {
      "cell_type": "code",
      "source": [
        "from flask import Flask\n",
        "\n",
        "app = Flask(__name__)\n",
        "\n",
        "@app.route('/')\n",
        "def home():\n",
        "    return 'Hello, World!'\n",
        "\n",
        "@app.route('/user')\n",
        "def user():\n",
        "    return 'Hello, User!'\n",
        "\n",
        "if __name__ == '__main__':\n",
        "    app.run(host='0.0.0.0', debug=False, port=5001)"
      ],
      "metadata": {
        "id": "mglNb3PGbilT"
      },
      "id": "mglNb3PGbilT",
      "execution_count": null,
      "outputs": []
    }
  ],
  "metadata": {
    "kernelspec": {
      "display_name": "Python 3 (ipykernel)",
      "language": "python",
      "name": "python3"
    },
    "language_info": {
      "codemirror_mode": {
        "name": "ipython",
        "version": 3
      },
      "file_extension": ".py",
      "mimetype": "text/x-python",
      "name": "python",
      "nbconvert_exporter": "python",
      "pygments_lexer": "ipython3",
      "version": "3.10.11"
    },
    "colab": {
      "provenance": []
    }
  },
  "nbformat": 4,
  "nbformat_minor": 5
}